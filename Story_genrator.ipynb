{
  "nbformat": 4,
  "nbformat_minor": 0,
  "metadata": {
    "colab": {
      "provenance": [],
      "authorship_tag": "ABX9TyMPcEaBmKSJ6zBbAddEp6uX",
      "include_colab_link": true
    },
    "kernelspec": {
      "name": "python3",
      "display_name": "Python 3"
    },
    "language_info": {
      "name": "python"
    }
  },
  "cells": [
    {
      "cell_type": "markdown",
      "metadata": {
        "id": "view-in-github",
        "colab_type": "text"
      },
      "source": [
        "<a href=\"https://colab.research.google.com/github/baiju012/Machine-Learning/blob/main/Story_genrator.ipynb\" target=\"_parent\"><img src=\"https://colab.research.google.com/assets/colab-badge.svg\" alt=\"Open In Colab\"/></a>"
      ]
    },
    {
      "cell_type": "code",
      "execution_count": null,
      "metadata": {
        "colab": {
          "base_uri": "https://localhost:8080/"
        },
        "id": "9ql_U3uk-25D",
        "outputId": "0ac07668-000b-4aa8-a694-43e796ed2123"
      },
      "outputs": [
        {
          "output_type": "stream",
          "name": "stdout",
          "text": [
            "Yesterday, a mouse that lived in Venice, went to the university and found a secret key\n"
          ]
        }
      ],
      "source": [
        "\n",
        "import random\n",
        "when = ['A few years ago', 'Yesterday', 'Last night', 'A long time ago','On 20th Jan']\n",
        "who = ['a rabbit', 'an elephant', 'a mouse', 'a turtle','a cat']\n",
        "name = ['Ali', 'Miriam','daniel', 'Hoouk', 'Starwalker']\n",
        "residence = ['Barcelona','India', 'Germany', 'Venice', 'England']\n",
        "went = ['cinema', 'university','seminar', 'school', 'laundry']\n",
        "happened = ['made a lot of friends','Eats a burger', 'found a secret key', 'solved a mistery', 'wrote a book']\n",
        "print(random.choice(when) + ', ' + random.choice(who) + ' that lived in ' + random.choice(residence) + ', went to the ' + random.choice(went) + ' and ' + random.choice(happened))"
      ]
    },
    {
      "cell_type": "code",
      "source": [
        "\n",
        "def convert(s):\n",
        "    f = float(s)\n",
        "    c = (f - 32) * 5/9\n",
        "    return c\n",
        "\n",
        "print(convert(78))"
      ],
      "metadata": {
        "id": "royfAr7yAUr1",
        "outputId": "0cf0fb2e-d59e-4596-d37a-321448fee90d",
        "colab": {
          "base_uri": "https://localhost:8080/"
        }
      },
      "execution_count": null,
      "outputs": [
        {
          "output_type": "stream",
          "name": "stdout",
          "text": [
            "25.555555555555557\n"
          ]
        }
      ]
    }
  ]
}